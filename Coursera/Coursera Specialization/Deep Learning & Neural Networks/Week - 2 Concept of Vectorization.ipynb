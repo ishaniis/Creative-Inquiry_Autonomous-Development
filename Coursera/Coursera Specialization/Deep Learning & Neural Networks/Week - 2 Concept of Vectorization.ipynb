{
 "cells": [
  {
   "cell_type": "code",
   "execution_count": 1,
   "metadata": {},
   "outputs": [],
   "source": [
    "import numpy as np\n",
    "import time \n",
    "import random "
   ]
  },
  {
   "cell_type": "code",
   "execution_count": 3,
   "metadata": {},
   "outputs": [
    {
     "name": "stdout",
     "output_type": "stream",
     "text": [
      "[1 2 3 4]\n"
     ]
    }
   ],
   "source": [
    "a = np.array([1,2,3,4])\n",
    "print(a)"
   ]
  },
  {
   "cell_type": "code",
   "execution_count": 10,
   "metadata": {},
   "outputs": [],
   "source": [
    "A1 = np.random.rand(1000000000)\n",
    "B1 = np.random.rand(1000000000)"
   ]
  },
  {
   "cell_type": "code",
   "execution_count": 11,
   "metadata": {},
   "outputs": [
    {
     "name": "stdout",
     "output_type": "stream",
     "text": [
      "Time used in computing the vectorized Array is: 15091.80998802185\n"
     ]
    }
   ],
   "source": [
    "#Vectorization Array using Numpy \n",
    "tic = time.time()\n",
    "C1 = np.dot(A1,B1)\n",
    "toc = time.time()\n",
    "\n",
    "print(\"Time used in computing the vectorized Array is: \" + str(1000*(toc-tic)))"
   ]
  },
  {
   "cell_type": "code",
   "execution_count": null,
   "metadata": {},
   "outputs": [],
   "source": [
    "#Former method of using the for loop\n",
    "C2  = 0 \n",
    "tic = time.time()\n",
    "for i in range(1000000000):\n",
    "    C2 += A1[i]*B1[i]\n",
    "toc = time.time()\n",
    "\n",
    "print(\"Time used in computing the former method of using the for loop is: \" str(1000*(toc-tic)))"
   ]
  },
  {
   "cell_type": "code",
   "execution_count": null,
   "metadata": {},
   "outputs": [],
   "source": []
  }
 ],
 "metadata": {
  "kernelspec": {
   "display_name": "Python 3",
   "language": "python",
   "name": "python3"
  },
  "language_info": {
   "codemirror_mode": {
    "name": "ipython",
    "version": 3
   },
   "file_extension": ".py",
   "mimetype": "text/x-python",
   "name": "python",
   "nbconvert_exporter": "python",
   "pygments_lexer": "ipython3",
   "version": "3.8.3"
  }
 },
 "nbformat": 4,
 "nbformat_minor": 4
}
