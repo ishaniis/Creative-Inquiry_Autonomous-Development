{
 "cells": [
  {
   "cell_type": "code",
   "execution_count": 2,
   "metadata": {},
   "outputs": [],
   "source": [
    "import numpy as np\n",
    "import time \n",
    "import random "
   ]
  },
  {
   "cell_type": "code",
   "execution_count": 3,
   "metadata": {},
   "outputs": [
    {
     "name": "stdout",
     "output_type": "stream",
     "text": [
      "[1 2 3 4]\n"
     ]
    }
   ],
   "source": [
    "a = np.array([1,2,3,4])\n",
    "print(a)"
   ]
  },
  {
   "cell_type": "code",
   "execution_count": 4,
   "metadata": {},
   "outputs": [],
   "source": [
    "A1 = np.random.rand(1000000)\n",
    "B1 = np.random.rand(1000000)"
   ]
  },
  {
   "cell_type": "code",
   "execution_count": 5,
   "metadata": {},
   "outputs": [
    {
     "name": "stdout",
     "output_type": "stream",
     "text": [
      "249916.3714869405\n",
      "Time used in computing the vectorized Array is: 32.007694244384766\n"
     ]
    }
   ],
   "source": [
    "#Vectorization Array using Numpy \n",
    "tic = time.time()\n",
    "C1 = np.dot(A1,B1)\n",
    "toc = time.time()\n",
    "print(C1)\n",
    "print(\"Time used in computing the vectorized Array is: \" + str(1000*(toc-tic)))"
   ]
  },
  {
   "cell_type": "code",
   "execution_count": 10,
   "metadata": {},
   "outputs": [
    {
     "name": "stdout",
     "output_type": "stream",
     "text": [
      "249916.37148692927\n",
      "Time used in computing the former method of using the for loop is: 949.2111206054688\n"
     ]
    }
   ],
   "source": [
    "#Former method of using the for loop\n",
    "C2  = 0 \n",
    "tic1 = time.time()\n",
    "for i in range(1000000):\n",
    "    C2 += A1[i]*B1[i]\n",
    "toc1 = time.time()\n",
    "print(C2)\n",
    "print(\"Time used in computing the former method of using the for loop is: \" + str(1000*(toc1-tic1)))"
   ]
  },
  {
   "cell_type": "code",
   "execution_count": 14,
   "metadata": {},
   "outputs": [
    {
     "name": "stdout",
     "output_type": "stream",
     "text": [
      "0.9510366430313696\n"
     ]
    }
   ],
   "source": [
    "x1 = 1000*(toc - tic)\n",
    "x2 = 1000*(toc1 - tic1)\n",
    "\n",
    "factor_time_complexity = x2/x1\n",
    "print(factor_time_complexity)"
   ]
  },
  {
   "cell_type": "code",
   "execution_count": null,
   "metadata": {},
   "outputs": [],
   "source": []
  }
 ],
 "metadata": {
  "kernelspec": {
   "display_name": "Python 3",
   "language": "python",
   "name": "python3"
  },
  "language_info": {
   "codemirror_mode": {
    "name": "ipython",
    "version": 3
   },
   "file_extension": ".py",
   "mimetype": "text/x-python",
   "name": "python",
   "nbconvert_exporter": "python",
   "pygments_lexer": "ipython3",
   "version": "3.8.3"
  }
 },
 "nbformat": 4,
 "nbformat_minor": 4
}
